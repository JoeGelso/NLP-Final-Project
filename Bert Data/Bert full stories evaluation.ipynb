{
 "cells": [
  {
   "cell_type": "code",
   "execution_count": 37,
   "metadata": {},
   "outputs": [
    {
     "name": "stdout",
     "output_type": "stream",
     "text": [
      "accuracy is 18.69158878504673%\n"
     ]
    }
   ],
   "source": [
    "import csv\n",
    "\n",
    "test_predict = []\n",
    "test_true = []\n",
    "\n",
    "with open(\"test_results.tsv\") as fd:\n",
    "    rd = csv.reader(fd, delimiter=\"\\t\")\n",
    "    for row in rd:\n",
    "        if max( float(row[0]), float(row[1]) ) == float(row[1]):\n",
    "            test_predict.append(\"0\")\n",
    "        else:\n",
    "            test_predict.append(\"1\")\n",
    "with open(\"answers.tsv\") as fd:\n",
    "    rd = csv.reader(fd, delimiter = \"\\t\")\n",
    "    for row in rd:\n",
    "        test_true.append(row[0])\n",
    "        \n",
    "#print(len(test_true), len(test_predict))\n",
    "\n",
    "\n",
    "score = 0.0\n",
    "\n",
    "for i in range(len(test_true)):\n",
    "    if test_true[i] == test_predict[i]:\n",
    "        score += 1\n",
    "\n",
    "#number of correct guesses/ number of cases\n",
    "score = score / len(test_true)\n",
    "        \n",
    "print(\"accuracy is {}%\".format(score * 100))\n",
    "    "
   ]
  },
  {
   "cell_type": "code",
   "execution_count": null,
   "metadata": {},
   "outputs": [],
   "source": []
  }
 ],
 "metadata": {
  "kernelspec": {
   "display_name": "Python 3",
   "language": "python",
   "name": "python3"
  },
  "language_info": {
   "codemirror_mode": {
    "name": "ipython",
    "version": 3
   },
   "file_extension": ".py",
   "mimetype": "text/x-python",
   "name": "python",
   "nbconvert_exporter": "python",
   "pygments_lexer": "ipython3",
   "version": "3.6.8"
  }
 },
 "nbformat": 4,
 "nbformat_minor": 4
}
